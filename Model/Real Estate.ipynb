# ............................................................................................................PRASHANT

# importing libraries
import numpy as np
import pandas as pd
import matplotlib.pyplot as plt
%matplotlib inline
import matplotlib

# Load banglore home prices into a dataframe

df=pd.read_csv("C:\\Users\\lenovo\\Desktop\\bengaluru_house_prices.csv")
df.head()

df.shape

df.groupby('area_type')['area_type'].agg('count')

df1=df.drop(['availability','society','balcony','area_type'],axis=1)
df1.head()

# Handle NA values

df1.isnull().sum()

df2=df1.dropna()
df2.head()

df2.isnull().sum()

df2.shape

df2['size'].unique()

# Feature Engineering
Add new feature(integer) for bhk (Bedrooms Hall Kitchen)

df2['BHK']=df2['size'].apply(lambda x : int (x.split(' ')[0]))

df2.head()


df2['BHK'].unique()

df2[df2.BHK>20]

# Explore total_sqft feature

df2.total_sqft.unique()

def isfloat(x):
    try:
        float(x)
    except:
        return False
    return True


df2[~df2['total_sqft'].apply(isfloat)].head(10)


Above shows that total_sqft can be a range (e.g. 2100-2850). For such case we can just take average of min and max value in the range. There are other cases such as 34.46Sq. Meter which one can convert to square ft using unit conversion. I am going to just drop such corner cases to keep things simple

def convert_sqft_to_num(x):
    tokens=x.split('-')
    if len(tokens)==2:
        return(float(tokens[0])+float(tokens[1]))/2
    try:
        return float(x)
    except:
        return None

df3=df2.copy()
df3['total_sqft'] = df3['total_sqft'].apply(convert_sqft_to_num)

df3.head(10)

# Feature Engineering
Add new feature called price per square feet

df3['Price/sqft']=df3['price']*100000/df3['total_sqft']

df3.head()

len(df3.location.unique())

df3.location = df3.location.apply(lambda x:x.strip())
location_stats = df3.groupby('location')['location'].agg('count').sort_values(ascending=False)
location_stats

len(location_stats[location_stats]<=10)

loc_less_than10= location_stats[location_stats<=10]
loc_less_than10

df3.location= df3.location.apply(lambda x:'other' if x in loc_less_than10 else x)

len(df3.location.unique())

df3.head(10)

# Outlier Removal Using Business Logic
As a data scientist when you have a conversation with your business manager (who has expertise in real estate), he will tell you that normally square ft per bedroom is 300 (i.e. 2 bhk apartment is minimum 600 sqft. If you have for example 400 sqft apartment with 2 bhk than that seems suspicious and can be removed as an outlier. We will remove such outliers by keeping our minimum thresold per bhk to be 300 sqft

df3[df3.total_sqft/df3.BHK<300].head()

df3.shape

df4=df3[~(df3.total_sqft/df3.BHK<300)]

df4.shape

df4.head()

df4['Price_per_sqft']=df4['Price/sqft']

# Outlier Removal Using Standard Deviation and Mean

df4.Price_per_sqft.describe()

def remove_pps_outliers(df):
    df_out= pd.DataFrame()
    for key,subdf in df.groupby('location'):
        m=np.mean(subdf.Price_per_sqft)
        st=np.std(subdf.Price_per_sqft)
        reduced_df= subdf[(subdf.Price_per_sqft>(m-st))& (subdf.Price_per_sqft<=(m+st))]
        df_out =pd.concat([df_out,reduced_df],ignore_index=True)
    return df_out
        

df5=remove_pps_outliers(df4)
df5.shape

df6=df5.drop('Price/sqft',axis=1)

df6.head()

def plot_scatter_chart(df,location):
    bhk2 = df[(df.location==location) & (df.BHK==2)]
    bhk3 = df[(df.location==location) & (df.BHK==3)]
    matplotlib.rcParams['figure.figsize']=(15,10)
    plt.scatter(bhk2.total_sqft, bhk2.price, color='blue', label='2BHK',s=50)
    plt.scatter(bhk3.total_sqft, bhk3.price , color='green', marker='+', label='3BHK', s=50)
    plt.xlabel("Total Square Feet Area")
    plt.ylabel("Price")
    plt.title(location)
    plt.legend()

plot_scatter_chart(df6,"Rajaji Nagar")

plot_scatter_chart(df6,"Hebbal")

# The price of 2BHK apartment is higher than 3BHK for same area therefore these outliers should be removed.

# Now we build dictionary stats per bhk,then we can remove those 2 bhk apartments whose Price_per_sqft is less than mean Price_per_sqft of 1bhk apertment

def remove_bhk_outliers(df):
    exclude_indices = np.array([])
    for location, location_df in df.groupby('location'):
        bhk_stats={}
        for bhk , bhk_df in location_df.groupby('BHK'):
            bhk_stats[bhk]={
                'mean': np.mean(bhk_df.Price_per_sqft),
                'std' : np.std(bhk_df.Price_per_sqft),
                'count': bhk_df.shape[0]
                }
            for bhk,bhk_df in location_df.groupby('BHK'):
                stats = bhk_stats.get(bhk-1)
                if stats and stats['count']>5:
                    exclude_indices = np.append(exclude_indices,bhk_df[bhk_df.Price_per_sqft<(stats['mean'])].index.values)
                    
    return df.drop(exclude_indices, axis='index')

df7=remove_bhk_outliers(df6)

df7.shape

plot_scatter_chart(df7,"Hebbal")

matplotlib.rcParams["figure.figsize"]=(20,20)
plt.hist(df7.Price_per_sqft,rwidth=0.8)
plt.xlabel("Price Per Square Feet")
plt.ylabel("Count")

df7.bath.unique()

df7[df7.bath>10]

plt.hist(df7.bath,rwidth=0.8)
plt.xlabel("Number of bathrooms")
plt.ylabel("Count")

It is unusual to have 2 more bathrooms than number of bedrooms in a home

df7[df7.bath>df7.BHK+2]

Again the business manager has a conversation with you (i.e. a data scientist) that if you have 4 bedroom home and even if you have bathroom in all 4 rooms plus one guest bathroom, you will have total bath = total bed + 1 max. Anything above that is an outlier or a data error and can be removed

df8=df7[df7.bath<df7.BHK+2]
df8.shape

df9=df8.drop(['size','Price_per_sqft'],axis=1)

df9.head()

# Use One Hot Encoding For Location

dummies=pd.get_dummies(df9.location)
dummies.head()

df10 = pd.concat([df9,dummies.drop('other',axis=1)],axis=1)

df10.head()

df11 =df10.drop('location',axis=1)
df11.head(2)

df11.shape

# Split data

X = df11.drop('price',axis=1)
y = df11['price']
print("Shape of X :", X.shape)
print("Shape of y :" ,y.shape)

# Train data

from sklearn.model_selection import train_test_split
X_train, X_test , y_train, y_test = train_test_split(X,y,test_size=0.2,random_state=10)

# Model training

from sklearn.linear_model import LinearRegression
lr=LinearRegression()
lr.fit(X_train,y_train)
lr.score(X_test,y_test)

#  Use K Fold cross validation to measure accuracy of our LinearRegression model

from sklearn.model_selection import ShuffleSplit
from sklearn.model_selection import cross_val_score

cv=ShuffleSplit(n_splits=5,test_size=0.2,random_state=0)

cross_val_score(LinearRegression(),X,y,cv=cv)

# Find best model using GridSearchCV

from sklearn.model_selection import GridSearchCV
from sklearn.linear_model import Lasso
from sklearn.tree import DecisionTreeRegressor

def find_best_model_using_gridsearchcv(x,y):
    algos={
        'linear_regression':{
            'model': LinearRegression(),
            'params': {
                'normalize':[True,False]
            }
        },
        'lasso':{
            'model': Lasso(),
            'params':{
                'alpha':[1,2],
                'selection':['random','cyclic']
                
            }
        },
        'decision_tree': {
            'model': DecisionTreeRegressor(),
            'params': {
                'criterion' : ['mse','friedman_mse'],
                'splitter': ['best','random']
            }
        }
            
    }
    
    scores = []
    cv = ShuffleSplit(n_splits=5, test_size=0.2, random_state=0)
    for algo_name, config in algos.items():
        gs =  GridSearchCV(config['model'], config['params'], cv=cv, return_train_score=False)
        gs.fit(X,y)
        scores.append({
            'model': algo_name,
            'best_score': gs.best_score_,
            'best_params': gs.best_params_
        })

    return pd.DataFrame(scores,columns=['model','best_score','best_params'])

find_best_model_using_gridsearchcv(X,y)
    


# Linear Regression Model gives best score, hence we will use that.

# Predicting results

def predict_price(location,sqft,bath,bhk):    
    loc_index = np.where(X.columns==location)[0][0]

    x = np.zeros(len(X.columns))
    x[0] = sqft
    x[1] = bath
    x[2] = bhk
    if loc_index >= 0:
        x[loc_index] = 1

    return lr.predict([x])[0]

predict_price('1st Phase JP Nagar',1000, 2, 2)

predict_price('1st Phase JP Nagar',1000, 3, 3)

predict_price('Indira Nagar',1000, 3, 3)

predict_price('Indira Nagar',1000, 2, 2)

# Export the tested model to a pickle file

import pickle
with open('banglore_home_prices_model.pickle','wb') as f:
    pickle.dump(lr,f)

# Export location and column information to a file that will be useful later on in our prediction application

import json
columns = {
    'data_columns' : [col.lower() for col in X.columns]
}
with open("columns.json","w") as f:
    f.write(json.dumps(columns))


